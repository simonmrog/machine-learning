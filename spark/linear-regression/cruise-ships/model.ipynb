{
 "cells": [
  {
   "cell_type": "code",
   "execution_count": 1,
   "metadata": {},
   "outputs": [],
   "source": [
    "#spark session\n",
    "from pyspark.sql import SparkSession\n",
    "spark = SparkSession.builder.appName (\"Cruise Ships Regression\").getOrCreate ()"
   ]
  },
  {
   "cell_type": "code",
   "execution_count": 2,
   "metadata": {},
   "outputs": [],
   "source": [
    "#loading the dataset and preparing to machine learning\n",
    "from pyspark.ml.feature import StringIndexer\n",
    "from pyspark.ml.feature import VectorAssembler"
   ]
  },
  {
   "cell_type": "code",
   "execution_count": 3,
   "metadata": {},
   "outputs": [],
   "source": [
    "data = spark.read.csv (\"cruise_ship_info.csv\", inferSchema=True, header=True)"
   ]
  },
  {
   "cell_type": "code",
   "execution_count": 4,
   "metadata": {},
   "outputs": [],
   "source": [
    "indexer = StringIndexer (inputCol=\"Cruise_line\", outputCol=\"line\")\n",
    "data = indexer.fit (data).transform (data)\n",
    "data = data.select ([\"line\", \"Age\", \"Tonnage\", \"passengers\", \"length\", \"cabins\", \"passenger_density\", \"crew\"])"
   ]
  },
  {
   "cell_type": "code",
   "execution_count": 5,
   "metadata": {},
   "outputs": [],
   "source": [
    "features = [\"line\", \"Age\", \"Tonnage\", \"passengers\", \"length\", \"cabins\", \"passenger_density\", \"crew\"]\n",
    "data = data.select (features)"
   ]
  },
  {
   "cell_type": "code",
   "execution_count": 6,
   "metadata": {},
   "outputs": [
    {
     "name": "stdout",
     "output_type": "stream",
     "text": "+--------------------+----+\n|            features|crew|\n+--------------------+----+\n|[16.0,6.0,30.2769...|3.55|\n|[16.0,6.0,30.2769...|3.55|\n|[1.0,26.0,47.262,...| 6.7|\n|[1.0,11.0,110.0,2...|19.1|\n|[1.0,17.0,101.353...|10.0|\n|[1.0,22.0,70.367,...| 9.2|\n|[1.0,15.0,70.367,...| 9.2|\n|[1.0,23.0,70.367,...| 9.2|\n|[1.0,19.0,70.367,...| 9.2|\n|[1.0,6.0,110.2389...|11.5|\n|[1.0,10.0,110.0,2...|11.6|\n|[1.0,28.0,46.052,...| 6.6|\n|[1.0,18.0,70.367,...| 9.2|\n|[1.0,17.0,70.367,...| 9.2|\n|[1.0,11.0,86.0,21...| 9.3|\n|[1.0,8.0,110.0,29...|11.6|\n|[1.0,9.0,88.5,21....|10.3|\n|[1.0,15.0,70.367,...| 9.2|\n|[1.0,12.0,88.5,21...| 9.3|\n|[1.0,20.0,70.367,...| 9.2|\n+--------------------+----+\nonly showing top 20 rows\n\n"
    }
   ],
   "source": [
    "assembler = VectorAssembler (inputCols=[\"line\", \"Age\", \"Tonnage\", \"passengers\", \"length\", \"cabins\", \"passenger_density\"], outputCol=\"features\")\n",
    "df = assembler.transform (data).select (\"features\", \"crew\")\n",
    "df.show ()"
   ]
  },
  {
   "cell_type": "code",
   "execution_count": 7,
   "metadata": {},
   "outputs": [],
   "source": [
    "#train-test-splitting\n",
    "(train, test) = df.randomSplit ([0.7, 0.3], seed=0)"
   ]
  },
  {
   "cell_type": "code",
   "execution_count": 8,
   "metadata": {},
   "outputs": [],
   "source": [
    "#fitting the model to the training data\n",
    "from pyspark.ml.regression import LinearRegression\n",
    "\n",
    "lr = LinearRegression (featuresCol=\"features\", labelCol=\"crew\", predictionCol=\"prediction\")\n",
    "model = lr.fit (train)\n"
   ]
  },
  {
   "cell_type": "code",
   "execution_count": 9,
   "metadata": {},
   "outputs": [
    {
     "name": "stdout",
     "output_type": "stream",
     "text": "Root Mean Squared Error:  0.7175117976753568\nR2 Coeffcient: 0.9614970428267888\n-0.702304920029873\n[0.02983426033990435,-0.013010363973426111,0.01020005625414865,-0.15569501178535697,0.42847792417321706,0.8416762689599384,-0.004919511460409775]\n"
    }
   ],
   "source": [
    "#testing the model\n",
    "test_results = model.evaluate (test)\n",
    "print (\"Root Mean Squared Error: \", test_results.rootMeanSquaredError)\n",
    "print (\"R2 Coeffcient:\", test_results.r2)\n",
    "\n",
    "print (model.intercept)\n",
    "print (model.coefficients)\n"
   ]
  },
  {
   "cell_type": "code",
   "execution_count": 10,
   "metadata": {},
   "outputs": [],
   "source": [
    "#making new predictions\n",
    "utest = test.select (\"features\")\n",
    "pred = model.transform (utest)"
   ]
  },
  {
   "cell_type": "code",
   "execution_count": 11,
   "metadata": {},
   "outputs": [],
   "source": [
    "#plotting results\n",
    "#import numpy as np\n",
    "#import matplotlib.pyplot as plt\n",
    "\n",
    "#reshaping test vector for plotting\n",
    "\n",
    "#test_reshaped = test.select (\"features\").collect ()\n",
    "#for i in range (len (test_reshaped)):\n",
    " # test_reshaped[i] = test_reshaped [i][0][0]\n",
    "\n",
    "#x = np.array (data.select (\"passengers\").collect ())\n",
    "#y = np.array (data.select (\"crew\").collect ())\n",
    "#y_pred = np.array (pred.select (\"prediction\").collect ())\n",
    "\n",
    "#plt.scatter (x, y, color=\"blue\")\n",
    "#plt.plot (test_reshaped, y_pred, color=\"red\")\n",
    "#plt.show ()"
   ]
  },
  {
   "cell_type": "code",
   "execution_count": 28,
   "metadata": {},
   "outputs": [
    {
     "name": "stdout",
     "output_type": "stream",
     "text": "Root Mean Squared Error: 0.41206721822917464\nR2 Coefficient: 0.9590685237015221\n-0.2261587040466555\n[-0.034262   -0.00795115  0.01337923 -0.13462169  0.40571745  0.7587587 ]\n"
    }
   ],
   "source": [
    "#linear regression using the sklearn library\n",
    "from sklearn.linear_model import LinearRegression\n",
    "from sklearn.preprocessing import LabelEncoder, OneHotEncoder\n",
    "from sklearn.metrics import mean_squared_error\n",
    "import pandas as pd\n",
    "\n",
    "sk_data = pd.read_csv (\"cruise_ship_info.csv\")\n",
    "\n",
    "x = sk_data [[\"Cruise_line\", \"Age\", \"Tonnage\", \"passengers\", \"length\", \"cabins\"]].to_numpy ()\n",
    "y = sk_data [\"crew\"].to_numpy ()\n",
    "\n",
    "label_enc = LabelEncoder ()\n",
    "x[:, 0] = label_enc.fit_transform (x[:, 0])\n",
    "one_hot = OneHotEncoder (categorical_features=[0])\n",
    "#x = one_hot.fit_transform (x).toarray ()\n",
    "\n",
    "from sklearn.model_selection import train_test_split\n",
    "x_train, x_test, y_train, y_test = train_test_split (x, y, test_size=0.3, random_state=0)\n",
    "\n",
    "sk_model = LinearRegression ()\n",
    "sk_model.fit (x_train, y_train)\n",
    "sk_pred = sk_model.predict (x_test)\n",
    "print (\"Root Mean Squared Error:\", mean_squared_error (y_test, sk_pred))\n",
    "print (\"R2 Coefficient:\", sk_model.score (x_test, y_test))\n",
    "\n",
    "print (sk_model.intercept_)\n",
    "print (sk_model.coef_)\n",
    "\n",
    "#plt.scatter (x, y, color=\"blue\")\n",
    "#plt.plot (x_test, sk_pred, color=\"red\")\n",
    "#plt.show ()"
   ]
  },
  {
   "cell_type": "code",
   "execution_count": null,
   "metadata": {},
   "outputs": [],
   "source": []
  }
 ],
 "metadata": {
  "kernelspec": {
   "display_name": "Python 3",
   "language": "python",
   "name": "python3"
  },
  "language_info": {
   "codemirror_mode": {
    "name": "ipython",
    "version": 3
   },
   "file_extension": ".py",
   "mimetype": "text/x-python",
   "name": "python",
   "nbconvert_exporter": "python",
   "pygments_lexer": "ipython3",
   "version": "3.6.8"
  }
 },
 "nbformat": 4,
 "nbformat_minor": 4
}