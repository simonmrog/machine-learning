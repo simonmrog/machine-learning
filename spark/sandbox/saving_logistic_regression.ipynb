{
 "nbformat": 4,
 "nbformat_minor": 2,
 "metadata": {
  "language_info": {
   "name": "python",
   "codemirror_mode": {
    "name": "ipython",
    "version": 3
   },
   "version": "3.6.8"
  },
  "orig_nbformat": 2,
  "file_extension": ".py",
  "mimetype": "text/x-python",
  "name": "python",
  "npconvert_exporter": "python",
  "pygments_lexer": "ipython3",
  "version": 3
 },
 "cells": [
  {
   "cell_type": "code",
   "execution_count": 14,
   "metadata": {},
   "outputs": [],
   "source": [
    "#spark session\n",
    "from pyspark.sql import SparkSession\n",
    "spark = SparkSession.builder.appName (\"Logistic Regression Iris\").getOrCreate ()"
   ]
  },
  {
   "cell_type": "code",
   "execution_count": 15,
   "metadata": {},
   "outputs": [
    {
     "name": "stdout",
     "output_type": "stream",
     "text": "root\n |-- SEPAL_LENGTH: double (nullable = true)\n |-- SEPAL_WIDTH: double (nullable = true)\n |-- PETAL_LENGTH: double (nullable = true)\n |-- PETAL_WIDTH: double (nullable = true)\n |-- CLASS: string (nullable = true)\n\n"
    }
   ],
   "source": [
    "#loading the dataset\n",
    "data = spark.read.csv (\"iris.csv\", inferSchema=True, header=True)\n",
    "data.printSchema ()"
   ]
  },
  {
   "cell_type": "code",
   "execution_count": 16,
   "metadata": {},
   "outputs": [
    {
     "name": "stdout",
     "output_type": "stream",
     "text": "root\n |-- SEPAL_LENGTH: double (nullable = true)\n |-- SEPAL_WIDTH: double (nullable = true)\n |-- PETAL_LENGTH: double (nullable = true)\n |-- PETAL_WIDTH: double (nullable = true)\n |-- CLASS: string (nullable = true)\n |-- classIndex: double (nullable = false)\n\n"
    }
   ],
   "source": [
    "#creating indexer\n",
    "from pyspark.ml.feature import StringIndexer\n",
    "indexer = StringIndexer (inputCol=\"CLASS\", outputCol=\"classIndex\")\n",
    "\n",
    "indexed_df = indexer.fit (data).transform (data)\n",
    "indexed_df.printSchema ()"
   ]
  },
  {
   "cell_type": "code",
   "execution_count": 17,
   "metadata": {},
   "outputs": [
    {
     "name": "stdout",
     "output_type": "stream",
     "text": "root\n |-- features: vector (nullable = true)\n |-- classIndex: double (nullable = false)\n\n"
    }
   ],
   "source": [
    "#assemble dataset for machine learning\n",
    "from pyspark.ml.feature import VectorAssembler\n",
    "\n",
    "assembler = VectorAssembler (inputCols=[\"SEPAL_LENGTH\", \"SEPAL_WIDTH\", \"PETAL_LENGTH\", \"PETAL_WIDTH\"], outputCol=\"features\")\n",
    "\n",
    "df = assembler.transform (indexed_df).select (\"features\", \"classIndex\")\n",
    "df.printSchema ()"
   ]
  },
  {
   "cell_type": "code",
   "execution_count": 18,
   "metadata": {},
   "outputs": [],
   "source": [
    "#creating logistic regressor\n",
    "from pyspark.ml.classification import LogisticRegression\n",
    "lr = LogisticRegression (featuresCol=\"features\", labelCol=\"classIndex\", maxIter=10)"
   ]
  },
  {
   "cell_type": "code",
   "execution_count": 19,
   "metadata": {},
   "outputs": [
    {
     "name": "stdout",
     "output_type": "stream",
     "text": "root\n |-- features: vector (nullable = true)\n |-- classIndex: double (nullable = false)\n\n"
    }
   ],
   "source": [
    "#train-test-splitting\n",
    "(train, test) = df.randomSplit ([0.7, 0.3])\n",
    "df.printSchema ()"
   ]
  },
  {
   "cell_type": "code",
   "execution_count": 20,
   "metadata": {},
   "outputs": [
    {
     "name": "stdout",
     "output_type": "stream",
     "text": "root\n |-- features: vector (nullable = true)\n |-- rawPrediction: vector (nullable = true)\n |-- probability: vector (nullable = true)\n |-- prediction: double (nullable = false)\n\n"
    }
   ],
   "source": [
    "#fitting the model to data and predicting values\n",
    "model = lr.fit (train)\n",
    "unlabeled_train = train.select (\"features\")\n",
    "unlabeled_test = test.select (\"features\")\n",
    "train_prediction = model.transform (unlabeled_train)\n",
    "test_prediction = model.transform (unlabeled_test)\n",
    "test_prediction.printSchema ()"
   ]
  },
  {
   "cell_type": "code",
   "execution_count": 21,
   "metadata": {},
   "outputs": [
    {
     "name": "stdout",
     "output_type": "stream",
     "text": "1.0\n1.0\n"
    }
   ],
   "source": [
    "#evaluating the model\n",
    "from pyspark.ml.evaluation import BinaryClassificationEvaluator\n",
    "evaluator = BinaryClassificationEvaluator (labelCol=\"prediction\")\n",
    "AUC_train = evaluator.evaluate (train_prediction)\n",
    "AUC = evaluator.evaluate (test_prediction)\n",
    "print (AUC_train)\n",
    "print (AUC)"
   ]
  },
  {
   "cell_type": "code",
   "execution_count": 22,
   "metadata": {},
   "outputs": [
    {
     "data": {
      "text/html": "<div>\n<style scoped>\n    .dataframe tbody tr th:only-of-type {\n        vertical-align: middle;\n    }\n\n    .dataframe tbody tr th {\n        vertical-align: top;\n    }\n\n    .dataframe thead th {\n        text-align: right;\n    }\n</style>\n<table border=\"1\" class=\"dataframe\">\n  <thead>\n    <tr style=\"text-align: right;\">\n      <th></th>\n      <th>features</th>\n      <th>probability</th>\n      <th>prediction</th>\n    </tr>\n  </thead>\n  <tbody>\n    <tr>\n      <td>0</td>\n      <td>[4.3, 3.0, 1.1, 0.1]</td>\n      <td>[0.9999957320484468, 4.2679477033963405e-06, 3...</td>\n      <td>0.0</td>\n    </tr>\n    <tr>\n      <td>1</td>\n      <td>[4.4, 2.9, 1.4, 0.2]</td>\n      <td>[0.9998943811435351, 0.0001056185031090084, 3....</td>\n      <td>0.0</td>\n    </tr>\n    <tr>\n      <td>2</td>\n      <td>[4.6, 3.2, 1.4, 0.2]</td>\n      <td>[0.999993620652776, 6.37934099104795e-06, 6.23...</td>\n      <td>0.0</td>\n    </tr>\n    <tr>\n      <td>3</td>\n      <td>[4.8, 3.4, 1.6, 0.2]</td>\n      <td>[0.9999975285292191, 2.471469430289015e-06, 1....</td>\n      <td>0.0</td>\n    </tr>\n    <tr>\n      <td>4</td>\n      <td>[4.9, 3.0, 1.4, 0.2]</td>\n      <td>[0.9996318057310466, 0.00036819378396433025, 4...</td>\n      <td>0.0</td>\n    </tr>\n    <tr>\n      <td>5</td>\n      <td>[5.0, 2.3, 3.3, 1.0]</td>\n      <td>[9.824050606399043e-06, 0.9657917736273739, 0....</td>\n      <td>1.0</td>\n    </tr>\n    <tr>\n      <td>6</td>\n      <td>[5.0, 3.3, 1.4, 0.2]</td>\n      <td>[0.9999865639141851, 1.3436079984882497e-05, 5...</td>\n      <td>0.0</td>\n    </tr>\n    <tr>\n      <td>7</td>\n      <td>[5.0, 3.4, 1.5, 0.2]</td>\n      <td>[0.9999949485673423, 5.0514308085441005e-06, 1...</td>\n      <td>0.0</td>\n    </tr>\n    <tr>\n      <td>8</td>\n      <td>[5.0, 3.5, 1.3, 0.3]</td>\n      <td>[0.9999986315803272, 1.3684191860659795e-06, 4...</td>\n      <td>0.0</td>\n    </tr>\n    <tr>\n      <td>9</td>\n      <td>[5.0, 3.6, 1.4, 0.2]</td>\n      <td>[0.9999997039468346, 2.9605311757215375e-07, 4...</td>\n      <td>0.0</td>\n    </tr>\n    <tr>\n      <td>10</td>\n      <td>[5.1, 3.3, 1.7, 0.5]</td>\n      <td>[0.9997185532099355, 0.0002814456618902384, 1....</td>\n      <td>0.0</td>\n    </tr>\n    <tr>\n      <td>11</td>\n      <td>[5.1, 3.7, 1.5, 0.4]</td>\n      <td>[0.9999994435387741, 5.564609934092144e-07, 2....</td>\n      <td>0.0</td>\n    </tr>\n    <tr>\n      <td>12</td>\n      <td>[5.3, 3.7, 1.5, 0.2]</td>\n      <td>[0.9999994949204216, 5.050795304962868e-07, 4....</td>\n      <td>0.0</td>\n    </tr>\n    <tr>\n      <td>13</td>\n      <td>[5.4, 3.9, 1.7, 0.4]</td>\n      <td>[0.9999996430862247, 3.569137013853401e-07, 7....</td>\n      <td>0.0</td>\n    </tr>\n    <tr>\n      <td>14</td>\n      <td>[5.6, 2.8, 4.9, 2.0]</td>\n      <td>[4.6543441634429783e-10, 0.044831147215396626,...</td>\n      <td>2.0</td>\n    </tr>\n    <tr>\n      <td>15</td>\n      <td>[5.7, 2.5, 5.0, 2.0]</td>\n      <td>[1.698759024748312e-12, 0.01648745151234149, 0...</td>\n      <td>2.0</td>\n    </tr>\n    <tr>\n      <td>16</td>\n      <td>[5.7, 2.8, 4.5, 1.3]</td>\n      <td>[8.598682846969778e-07, 0.8859771294282666, 0....</td>\n      <td>1.0</td>\n    </tr>\n    <tr>\n      <td>17</td>\n      <td>[5.7, 2.9, 4.2, 1.3]</td>\n      <td>[7.896804468285099e-06, 0.945836073570452, 0.0...</td>\n      <td>1.0</td>\n    </tr>\n    <tr>\n      <td>18</td>\n      <td>[5.7, 3.8, 1.7, 0.3]</td>\n      <td>[0.9999966754817131, 3.324517928284815e-06, 3....</td>\n      <td>0.0</td>\n    </tr>\n    <tr>\n      <td>19</td>\n      <td>[5.7, 4.4, 1.5, 0.4]</td>\n      <td>[0.9999999984403798, 1.5596202120613568e-09, 3...</td>\n      <td>0.0</td>\n    </tr>\n    <tr>\n      <td>20</td>\n      <td>[5.8, 2.6, 4.0, 1.2]</td>\n      <td>[3.2968157950128493e-07, 0.9493977327496255, 0...</td>\n      <td>1.0</td>\n    </tr>\n    <tr>\n      <td>21</td>\n      <td>[5.8, 2.7, 3.9, 1.2]</td>\n      <td>[1.6085521965730783e-06, 0.9683775526204578, 0...</td>\n      <td>1.0</td>\n    </tr>\n    <tr>\n      <td>22</td>\n      <td>[5.8, 2.7, 4.1, 1.0]</td>\n      <td>[2.7534875513193452e-06, 0.9871848357564403, 0...</td>\n      <td>1.0</td>\n    </tr>\n    <tr>\n      <td>23</td>\n      <td>[5.8, 2.8, 5.1, 2.4]</td>\n      <td>[8.314728201542521e-13, 0.003600025554689761, ...</td>\n      <td>2.0</td>\n    </tr>\n    <tr>\n      <td>24</td>\n      <td>[5.9, 3.0, 4.2, 1.5]</td>\n      <td>[3.2353448784800306e-06, 0.8992074169630538, 0...</td>\n      <td>1.0</td>\n    </tr>\n    <tr>\n      <td>25</td>\n      <td>[5.9, 3.0, 5.1, 1.8]</td>\n      <td>[1.2069653784176381e-08, 0.24692680749524512, ...</td>\n      <td>2.0</td>\n    </tr>\n    <tr>\n      <td>26</td>\n      <td>[6.0, 2.9, 4.5, 1.5]</td>\n      <td>[2.0650584381469563e-07, 0.8174259367149314, 0...</td>\n      <td>1.0</td>\n    </tr>\n    <tr>\n      <td>27</td>\n      <td>[6.0, 3.4, 4.5, 1.6]</td>\n      <td>[7.773505564745043e-05, 0.9259909358391336, 0....</td>\n      <td>1.0</td>\n    </tr>\n    <tr>\n      <td>28</td>\n      <td>[6.1, 2.6, 5.6, 1.4]</td>\n      <td>[8.695805235713645e-11, 0.3754471346621711, 0....</td>\n      <td>2.0</td>\n    </tr>\n    <tr>\n      <td>29</td>\n      <td>[6.1, 2.8, 4.7, 1.2]</td>\n      <td>[1.178941964643932e-07, 0.9444515618361978, 0....</td>\n      <td>1.0</td>\n    </tr>\n    <tr>\n      <td>30</td>\n      <td>[6.3, 2.3, 4.4, 1.3]</td>\n      <td>[8.569459577373784e-11, 0.782927281179839, 0.2...</td>\n      <td>1.0</td>\n    </tr>\n    <tr>\n      <td>31</td>\n      <td>[6.3, 2.9, 5.6, 1.8]</td>\n      <td>[6.156381442568911e-11, 0.14638948766526655, 0...</td>\n      <td>2.0</td>\n    </tr>\n    <tr>\n      <td>32</td>\n      <td>[6.3, 3.4, 5.6, 2.4]</td>\n      <td>[1.8539118015789345e-10, 0.021022677843664815,...</td>\n      <td>2.0</td>\n    </tr>\n    <tr>\n      <td>33</td>\n      <td>[6.4, 2.7, 5.3, 1.9]</td>\n      <td>[2.2128727237144995e-12, 0.07986605065531835, ...</td>\n      <td>2.0</td>\n    </tr>\n    <tr>\n      <td>34</td>\n      <td>[6.4, 2.8, 5.6, 2.1]</td>\n      <td>[2.8648467235499147e-13, 0.021110757985406618,...</td>\n      <td>2.0</td>\n    </tr>\n    <tr>\n      <td>35</td>\n      <td>[6.4, 2.9, 4.3, 1.3]</td>\n      <td>[1.7748343712090217e-07, 0.9718922831737692, 0...</td>\n      <td>1.0</td>\n    </tr>\n    <tr>\n      <td>36</td>\n      <td>[6.4, 3.1, 5.5, 1.8]</td>\n      <td>[1.3226653834641625e-09, 0.3051674442551292, 0...</td>\n      <td>2.0</td>\n    </tr>\n    <tr>\n      <td>37</td>\n      <td>[6.5, 3.2, 5.1, 2.0]</td>\n      <td>[2.7390011589010198e-09, 0.27386736459701094, ...</td>\n      <td>2.0</td>\n    </tr>\n    <tr>\n      <td>38</td>\n      <td>[6.7, 3.1, 4.4, 1.4]</td>\n      <td>[2.148300477430889e-07, 0.9777567746594851, 0....</td>\n      <td>1.0</td>\n    </tr>\n    <tr>\n      <td>39</td>\n      <td>[6.7, 3.3, 5.7, 2.5]</td>\n      <td>[1.5974562227982076e-12, 0.011312608650053029,...</td>\n      <td>2.0</td>\n    </tr>\n    <tr>\n      <td>40</td>\n      <td>[6.8, 2.8, 4.8, 1.4]</td>\n      <td>[8.197774560092019e-10, 0.9066828145153458, 0....</td>\n      <td>1.0</td>\n    </tr>\n    <tr>\n      <td>41</td>\n      <td>[6.9, 3.1, 5.1, 2.3]</td>\n      <td>[4.5323849663762024e-12, 0.06373015223182836, ...</td>\n      <td>2.0</td>\n    </tr>\n    <tr>\n      <td>42</td>\n      <td>[7.2, 3.6, 6.1, 2.5]</td>\n      <td>[4.5880983571583754e-12, 0.028798875875875755,...</td>\n      <td>2.0</td>\n    </tr>\n    <tr>\n      <td>43</td>\n      <td>[7.6, 3.0, 6.6, 2.1]</td>\n      <td>[7.471509886314317e-16, 0.034516271347123234, ...</td>\n      <td>2.0</td>\n    </tr>\n    <tr>\n      <td>44</td>\n      <td>[7.9, 3.8, 6.4, 2.0]</td>\n      <td>[2.5325650814905793e-10, 0.6482384347545624, 0...</td>\n      <td>1.0</td>\n    </tr>\n  </tbody>\n</table>\n</div>",
      "text/plain": "                features                                        probability  \\\n0   [4.3, 3.0, 1.1, 0.1]  [0.9999957320484468, 4.2679477033963405e-06, 3...   \n1   [4.4, 2.9, 1.4, 0.2]  [0.9998943811435351, 0.0001056185031090084, 3....   \n2   [4.6, 3.2, 1.4, 0.2]  [0.999993620652776, 6.37934099104795e-06, 6.23...   \n3   [4.8, 3.4, 1.6, 0.2]  [0.9999975285292191, 2.471469430289015e-06, 1....   \n4   [4.9, 3.0, 1.4, 0.2]  [0.9996318057310466, 0.00036819378396433025, 4...   \n5   [5.0, 2.3, 3.3, 1.0]  [9.824050606399043e-06, 0.9657917736273739, 0....   \n6   [5.0, 3.3, 1.4, 0.2]  [0.9999865639141851, 1.3436079984882497e-05, 5...   \n7   [5.0, 3.4, 1.5, 0.2]  [0.9999949485673423, 5.0514308085441005e-06, 1...   \n8   [5.0, 3.5, 1.3, 0.3]  [0.9999986315803272, 1.3684191860659795e-06, 4...   \n9   [5.0, 3.6, 1.4, 0.2]  [0.9999997039468346, 2.9605311757215375e-07, 4...   \n10  [5.1, 3.3, 1.7, 0.5]  [0.9997185532099355, 0.0002814456618902384, 1....   \n11  [5.1, 3.7, 1.5, 0.4]  [0.9999994435387741, 5.564609934092144e-07, 2....   \n12  [5.3, 3.7, 1.5, 0.2]  [0.9999994949204216, 5.050795304962868e-07, 4....   \n13  [5.4, 3.9, 1.7, 0.4]  [0.9999996430862247, 3.569137013853401e-07, 7....   \n14  [5.6, 2.8, 4.9, 2.0]  [4.6543441634429783e-10, 0.044831147215396626,...   \n15  [5.7, 2.5, 5.0, 2.0]  [1.698759024748312e-12, 0.01648745151234149, 0...   \n16  [5.7, 2.8, 4.5, 1.3]  [8.598682846969778e-07, 0.8859771294282666, 0....   \n17  [5.7, 2.9, 4.2, 1.3]  [7.896804468285099e-06, 0.945836073570452, 0.0...   \n18  [5.7, 3.8, 1.7, 0.3]  [0.9999966754817131, 3.324517928284815e-06, 3....   \n19  [5.7, 4.4, 1.5, 0.4]  [0.9999999984403798, 1.5596202120613568e-09, 3...   \n20  [5.8, 2.6, 4.0, 1.2]  [3.2968157950128493e-07, 0.9493977327496255, 0...   \n21  [5.8, 2.7, 3.9, 1.2]  [1.6085521965730783e-06, 0.9683775526204578, 0...   \n22  [5.8, 2.7, 4.1, 1.0]  [2.7534875513193452e-06, 0.9871848357564403, 0...   \n23  [5.8, 2.8, 5.1, 2.4]  [8.314728201542521e-13, 0.003600025554689761, ...   \n24  [5.9, 3.0, 4.2, 1.5]  [3.2353448784800306e-06, 0.8992074169630538, 0...   \n25  [5.9, 3.0, 5.1, 1.8]  [1.2069653784176381e-08, 0.24692680749524512, ...   \n26  [6.0, 2.9, 4.5, 1.5]  [2.0650584381469563e-07, 0.8174259367149314, 0...   \n27  [6.0, 3.4, 4.5, 1.6]  [7.773505564745043e-05, 0.9259909358391336, 0....   \n28  [6.1, 2.6, 5.6, 1.4]  [8.695805235713645e-11, 0.3754471346621711, 0....   \n29  [6.1, 2.8, 4.7, 1.2]  [1.178941964643932e-07, 0.9444515618361978, 0....   \n30  [6.3, 2.3, 4.4, 1.3]  [8.569459577373784e-11, 0.782927281179839, 0.2...   \n31  [6.3, 2.9, 5.6, 1.8]  [6.156381442568911e-11, 0.14638948766526655, 0...   \n32  [6.3, 3.4, 5.6, 2.4]  [1.8539118015789345e-10, 0.021022677843664815,...   \n33  [6.4, 2.7, 5.3, 1.9]  [2.2128727237144995e-12, 0.07986605065531835, ...   \n34  [6.4, 2.8, 5.6, 2.1]  [2.8648467235499147e-13, 0.021110757985406618,...   \n35  [6.4, 2.9, 4.3, 1.3]  [1.7748343712090217e-07, 0.9718922831737692, 0...   \n36  [6.4, 3.1, 5.5, 1.8]  [1.3226653834641625e-09, 0.3051674442551292, 0...   \n37  [6.5, 3.2, 5.1, 2.0]  [2.7390011589010198e-09, 0.27386736459701094, ...   \n38  [6.7, 3.1, 4.4, 1.4]  [2.148300477430889e-07, 0.9777567746594851, 0....   \n39  [6.7, 3.3, 5.7, 2.5]  [1.5974562227982076e-12, 0.011312608650053029,...   \n40  [6.8, 2.8, 4.8, 1.4]  [8.197774560092019e-10, 0.9066828145153458, 0....   \n41  [6.9, 3.1, 5.1, 2.3]  [4.5323849663762024e-12, 0.06373015223182836, ...   \n42  [7.2, 3.6, 6.1, 2.5]  [4.5880983571583754e-12, 0.028798875875875755,...   \n43  [7.6, 3.0, 6.6, 2.1]  [7.471509886314317e-16, 0.034516271347123234, ...   \n44  [7.9, 3.8, 6.4, 2.0]  [2.5325650814905793e-10, 0.6482384347545624, 0...   \n\n    prediction  \n0          0.0  \n1          0.0  \n2          0.0  \n3          0.0  \n4          0.0  \n5          1.0  \n6          0.0  \n7          0.0  \n8          0.0  \n9          0.0  \n10         0.0  \n11         0.0  \n12         0.0  \n13         0.0  \n14         2.0  \n15         2.0  \n16         1.0  \n17         1.0  \n18         0.0  \n19         0.0  \n20         1.0  \n21         1.0  \n22         1.0  \n23         2.0  \n24         1.0  \n25         2.0  \n26         1.0  \n27         1.0  \n28         2.0  \n29         1.0  \n30         1.0  \n31         2.0  \n32         2.0  \n33         2.0  \n34         2.0  \n35         1.0  \n36         2.0  \n37         2.0  \n38         1.0  \n39         2.0  \n40         1.0  \n41         2.0  \n42         2.0  \n43         2.0  \n44         1.0  "
     },
     "execution_count": 22,
     "metadata": {},
     "output_type": "execute_result"
    }
   ],
   "source": [
    "test_prediction.select (\"features\", \"probability\", \"prediction\").toPandas ()"
   ]
  },
  {
   "cell_type": "code",
   "execution_count": 23,
   "metadata": {},
   "outputs": [],
   "source": [
    "#saving model to disk\n",
    "model.save (\"models/first_model\")"
   ]
  },
  {
   "cell_type": "code",
   "execution_count": 24,
   "metadata": {},
   "outputs": [
    {
     "ename": "NameError",
     "evalue": "name 'model' is not defined",
     "output_type": "error",
     "traceback": [
      "\u001b[0;31m---------------------------------------------------------------------------\u001b[0m",
      "\u001b[0;31mNameError\u001b[0m                                 Traceback (most recent call last)",
      "\u001b[0;32m<ipython-input-24-fb554b3974d4>\u001b[0m in \u001b[0;36m<module>\u001b[0;34m\u001b[0m\n\u001b[1;32m      1\u001b[0m \u001b[0;31m#deleting model from memory\u001b[0m\u001b[0;34m\u001b[0m\u001b[0;34m\u001b[0m\u001b[0;34m\u001b[0m\u001b[0m\n\u001b[1;32m      2\u001b[0m \u001b[0;32mdel\u001b[0m \u001b[0mmodel\u001b[0m\u001b[0;34m\u001b[0m\u001b[0;34m\u001b[0m\u001b[0m\n\u001b[0;32m----> 3\u001b[0;31m \u001b[0mmodel\u001b[0m\u001b[0;34m\u001b[0m\u001b[0;34m\u001b[0m\u001b[0m\n\u001b[0m",
      "\u001b[0;31mNameError\u001b[0m: name 'model' is not defined"
     ]
    }
   ],
   "source": [
    "#deleting model from memory\n",
    "del model\n",
    "model"
   ]
  },
  {
   "cell_type": "code",
   "execution_count": 0,
   "metadata": {},
   "outputs": [],
   "source": [
    "#loading model from disk\n",
    "from pyspark.ml.classification import LogisticRegressionModel\n",
    "model = LogisticRegressionModel.load (\"models/first_model\")\n",
    "model"
   ]
  },
  {
   "cell_type": "code",
   "execution_count": 0,
   "metadata": {},
   "outputs": [],
   "source": [
    "#veryfing model is ok\n",
    "prediction = model.transform (test)\n",
    "prediction.select (\"classIndex\", \"prediction\").toPandas ()"
   ]
  }
 ]
}