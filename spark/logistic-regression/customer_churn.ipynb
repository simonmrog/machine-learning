{
 "nbformat": 4,
 "nbformat_minor": 2,
 "metadata": {
  "language_info": {
   "name": "python",
   "codemirror_mode": {
    "name": "ipython",
    "version": 3
   },
   "version": "3.6.8"
  },
  "orig_nbformat": 2,
  "file_extension": ".py",
  "mimetype": "text/x-python",
  "name": "python",
  "npconvert_exporter": "python",
  "pygments_lexer": "ipython3",
  "version": 3
 },
 "cells": [
  {
   "cell_type": "code",
   "execution_count": 1,
   "metadata": {},
   "outputs": [],
   "source": [
    "#spark session\n",
    "from pyspark.sql import SparkSession\n",
    "spark = SparkSession.builder.appName (\"Customer Churn Logistic Regression\").getOrCreate ()"
   ]
  },
  {
   "cell_type": "code",
   "execution_count": 12,
   "metadata": {},
   "outputs": [
    {
     "name": "stdout",
     "output_type": "stream",
     "text": "root\n |-- Names: string (nullable = true)\n |-- Age: double (nullable = true)\n |-- Total_Purchase: double (nullable = true)\n |-- Account_Manager: integer (nullable = true)\n |-- Years: double (nullable = true)\n |-- Num_Sites: double (nullable = true)\n |-- Onboard_date: timestamp (nullable = true)\n |-- Location: string (nullable = true)\n |-- Company: string (nullable = true)\n |-- Churn: integer (nullable = true)\n\n"
    },
    {
     "data": {
      "text/plain": "900"
     },
     "execution_count": 12,
     "metadata": {},
     "output_type": "execute_result"
    }
   ],
   "source": [
    "#loading the dataset\n",
    "data = spark.read.csv (\"customer_churn.csv\", inferSchema=True, header=True)\n",
    "data.printSchema ()\n",
    "data.count ()"
   ]
  },
  {
   "cell_type": "code",
   "execution_count": 16,
   "metadata": {},
   "outputs": [
    {
     "data": {
      "text/html": "<div>\n<style scoped>\n    .dataframe tbody tr th:only-of-type {\n        vertical-align: middle;\n    }\n\n    .dataframe tbody tr th {\n        vertical-align: top;\n    }\n\n    .dataframe thead th {\n        text-align: right;\n    }\n</style>\n<table border=\"1\" class=\"dataframe\">\n  <thead>\n    <tr style=\"text-align: right;\">\n      <th></th>\n      <th>Age</th>\n      <th>Total_Purchase</th>\n      <th>Account_Manager</th>\n      <th>Years</th>\n      <th>Num_Sites</th>\n      <th>Churn</th>\n    </tr>\n  </thead>\n  <tbody>\n    <tr>\n      <td>count</td>\n      <td>900.000000</td>\n      <td>900.000000</td>\n      <td>900.000000</td>\n      <td>900.000000</td>\n      <td>900.000000</td>\n      <td>900.000000</td>\n    </tr>\n    <tr>\n      <td>mean</td>\n      <td>41.816667</td>\n      <td>10062.824033</td>\n      <td>0.481111</td>\n      <td>5.273156</td>\n      <td>8.587778</td>\n      <td>0.166667</td>\n    </tr>\n    <tr>\n      <td>std</td>\n      <td>6.127560</td>\n      <td>2408.644532</td>\n      <td>0.499921</td>\n      <td>1.274449</td>\n      <td>1.764836</td>\n      <td>0.372885</td>\n    </tr>\n    <tr>\n      <td>min</td>\n      <td>22.000000</td>\n      <td>100.000000</td>\n      <td>0.000000</td>\n      <td>1.000000</td>\n      <td>3.000000</td>\n      <td>0.000000</td>\n    </tr>\n    <tr>\n      <td>25%</td>\n      <td>38.000000</td>\n      <td>8497.122500</td>\n      <td>0.000000</td>\n      <td>4.450000</td>\n      <td>7.000000</td>\n      <td>0.000000</td>\n    </tr>\n    <tr>\n      <td>50%</td>\n      <td>42.000000</td>\n      <td>10045.870000</td>\n      <td>0.000000</td>\n      <td>5.215000</td>\n      <td>8.000000</td>\n      <td>0.000000</td>\n    </tr>\n    <tr>\n      <td>75%</td>\n      <td>46.000000</td>\n      <td>11760.105000</td>\n      <td>1.000000</td>\n      <td>6.110000</td>\n      <td>10.000000</td>\n      <td>0.000000</td>\n    </tr>\n    <tr>\n      <td>max</td>\n      <td>65.000000</td>\n      <td>18026.010000</td>\n      <td>1.000000</td>\n      <td>9.150000</td>\n      <td>14.000000</td>\n      <td>1.000000</td>\n    </tr>\n  </tbody>\n</table>\n</div>",
      "text/plain": "              Age  Total_Purchase  Account_Manager       Years   Num_Sites  \\\ncount  900.000000      900.000000       900.000000  900.000000  900.000000   \nmean    41.816667    10062.824033         0.481111    5.273156    8.587778   \nstd      6.127560     2408.644532         0.499921    1.274449    1.764836   \nmin     22.000000      100.000000         0.000000    1.000000    3.000000   \n25%     38.000000     8497.122500         0.000000    4.450000    7.000000   \n50%     42.000000    10045.870000         0.000000    5.215000    8.000000   \n75%     46.000000    11760.105000         1.000000    6.110000   10.000000   \nmax     65.000000    18026.010000         1.000000    9.150000   14.000000   \n\n            Churn  \ncount  900.000000  \nmean     0.166667  \nstd      0.372885  \nmin      0.000000  \n25%      0.000000  \n50%      0.000000  \n75%      0.000000  \nmax      1.000000  "
     },
     "execution_count": 16,
     "metadata": {},
     "output_type": "execute_result"
    }
   ],
   "source": [
    "#looking for any missing data\n",
    "data.toPandas ().describe ()\n",
    "#we found we have no missing data"
   ]
  },
  {
   "cell_type": "code",
   "execution_count": 20,
   "metadata": {},
   "outputs": [
    {
     "name": "stdout",
     "output_type": "stream",
     "text": "root\n |-- features: vector (nullable = true)\n |-- churn: integer (nullable = true)\n\n"
    }
   ],
   "source": [
    "#assembler for machine learning\n",
    "from pyspark.ml.feature import VectorAssembler\n",
    "\n",
    "assembler = VectorAssembler (inputCols=[\"Age\", \"Total_Purchase\", \"Account_Manager\", \"Years\", \"Num_Sites\"], outputCol=\"features\")\n",
    "\n",
    "df = assembler.transform (data)\n",
    "df = df.select (\"features\", \"churn\")\n",
    "df.printSchema ()"
   ]
  },
  {
   "cell_type": "code",
   "execution_count": 21,
   "metadata": {},
   "outputs": [],
   "source": [
    "#train-test splitting\n",
    "(train, test) = df.randomSplit ([0.7, 0.3])"
   ]
  },
  {
   "cell_type": "code",
   "execution_count": 22,
   "metadata": {},
   "outputs": [],
   "source": [
    "#fitting model to the data\n",
    "from pyspark.ml.classification import LogisticRegression\n",
    "\n",
    "lr = LogisticRegression (featuresCol=\"features\", labelCol=\"churn\")\n",
    "model = lr.fit (train)"
   ]
  },
  {
   "cell_type": "code",
   "execution_count": 29,
   "metadata": {},
   "outputs": [
    {
     "data": {
      "text/html": "<div>\n<style scoped>\n    .dataframe tbody tr th:only-of-type {\n        vertical-align: middle;\n    }\n\n    .dataframe tbody tr th {\n        vertical-align: top;\n    }\n\n    .dataframe thead th {\n        text-align: right;\n    }\n</style>\n<table border=\"1\" class=\"dataframe\">\n  <thead>\n    <tr style=\"text-align: right;\">\n      <th></th>\n      <th>summary</th>\n      <th>churn</th>\n      <th>prediction</th>\n    </tr>\n  </thead>\n  <tbody>\n    <tr>\n      <td>0</td>\n      <td>count</td>\n      <td>626</td>\n      <td>626</td>\n    </tr>\n    <tr>\n      <td>1</td>\n      <td>mean</td>\n      <td>0.17092651757188498</td>\n      <td>0.12619808306709265</td>\n    </tr>\n    <tr>\n      <td>2</td>\n      <td>stddev</td>\n      <td>0.3767457766076395</td>\n      <td>0.33233802415660996</td>\n    </tr>\n    <tr>\n      <td>3</td>\n      <td>min</td>\n      <td>0.0</td>\n      <td>0.0</td>\n    </tr>\n    <tr>\n      <td>4</td>\n      <td>max</td>\n      <td>1.0</td>\n      <td>1.0</td>\n    </tr>\n  </tbody>\n</table>\n</div>",
      "text/plain": "  summary                churn           prediction\n0   count                  626                  626\n1    mean  0.17092651757188498  0.12619808306709265\n2  stddev   0.3767457766076395  0.33233802415660996\n3     min                  0.0                  0.0\n4     max                  1.0                  1.0"
     },
     "execution_count": 29,
     "metadata": {},
     "output_type": "execute_result"
    }
   ],
   "source": [
    "summary = model.summary \n",
    "summary.predictions.describe ().toPandas ()"
   ]
  },
  {
   "cell_type": "code",
   "execution_count": 36,
   "metadata": {},
   "outputs": [
    {
     "name": "stdout",
     "output_type": "stream",
     "text": "0.7320044296788483\n"
    }
   ],
   "source": [
    "#evaluating the model\n",
    "from pyspark.ml.evaluation import BinaryClassificationEvaluator\n",
    "\n",
    "labeled_pred = model.evaluate (test)\n",
    "evaluator = BinaryClassificationEvaluator (rawPredictionCol=\"prediction\", labelCol=\"churn\")\n",
    "\n",
    "auc = evaluator.evaluate (labeled_pred.predictions)\n",
    "print (auc)"
   ]
  },
  {
   "cell_type": "markdown",
   "execution_count": 38,
   "metadata": {},
   "outputs": [],
   "source": [
    "### making predictions\n"
   ]
  },
  {
   "cell_type": "code",
   "execution_count": 39,
   "metadata": {},
   "outputs": [],
   "source": [
    "#fitting to the whole dataset\n",
    "model = lr.fit (df)"
   ]
  },
  {
   "cell_type": "code",
   "execution_count": 42,
   "metadata": {},
   "outputs": [
    {
     "name": "stdout",
     "output_type": "stream",
     "text": "root\n |-- Names: string (nullable = true)\n |-- Age: double (nullable = true)\n |-- Total_Purchase: double (nullable = true)\n |-- Account_Manager: integer (nullable = true)\n |-- Years: double (nullable = true)\n |-- Num_Sites: double (nullable = true)\n |-- Onboard_date: timestamp (nullable = true)\n |-- Location: string (nullable = true)\n |-- Company: string (nullable = true)\n\n"
    }
   ],
   "source": [
    "#new data to predict\n",
    "new_customers = spark.read.csv (\"new_customers.csv\", inferSchema=True, header=True)\n",
    "new_customers.printSchema ()"
   ]
  },
  {
   "cell_type": "code",
   "execution_count": 44,
   "metadata": {},
   "outputs": [
    {
     "name": "stdout",
     "output_type": "stream",
     "text": "root\n |-- Names: string (nullable = true)\n |-- Age: double (nullable = true)\n |-- Total_Purchase: double (nullable = true)\n |-- Account_Manager: integer (nullable = true)\n |-- Years: double (nullable = true)\n |-- Num_Sites: double (nullable = true)\n |-- Onboard_date: timestamp (nullable = true)\n |-- Location: string (nullable = true)\n |-- Company: string (nullable = true)\n |-- features: vector (nullable = true)\n\n"
    }
   ],
   "source": [
    "#test set\n",
    "new_test = assembler.transform (new_customers)\n",
    "new_test.printSchema ()"
   ]
  },
  {
   "cell_type": "code",
   "execution_count": 49,
   "metadata": {},
   "outputs": [
    {
     "name": "stdout",
     "output_type": "stream",
     "text": "+----------------+----------+\n|         Company|prediction|\n+----------------+----------+\n|        King Ltd|       0.0|\n|   Cannon-Benson|       1.0|\n|Barron-Robertson|       1.0|\n|   Sexton-Golden|       1.0|\n|        Wood LLC|       0.0|\n|   Parks-Robbins|       1.0|\n+----------------+----------+\n\n"
    }
   ],
   "source": [
    "#predicting results\n",
    "prediction = model.transform (new_test)\n",
    "prediction.select (\"Company\", \"prediction\").show ()"
   ]
  },
  {
   "cell_type": "code",
   "execution_count": null,
   "metadata": {},
   "outputs": [],
   "source": []
  }
 ]
}