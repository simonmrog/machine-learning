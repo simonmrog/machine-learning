{
 "cells": [
  {
   "cell_type": "code",
   "execution_count": 74,
   "metadata": {},
   "outputs": [
    {
     "name": "stdout",
     "output_type": "stream",
     "text": [
      "[[-1.45519152e-11]\n",
      " [ 1.45519152e-11]\n",
      " [ 5.09317033e-11]\n",
      " [ 3.63797881e-11]\n",
      " [ 2.91038305e-11]\n",
      " [ 4.36557457e-11]\n",
      " [ 5.09317033e-11]\n",
      " [ 2.18278728e-11]\n",
      " [ 3.63797881e-11]\n",
      " [ 1.45519152e-11]]\n"
     ]
    },
    {
     "data": {
      "image/png": "[encoded data removed]",
      "text/plain": [
       "<Figure size 432x288 with 1 Axes>"
      ]
     },
     "metadata": {
      "needs_background": "light"
     },
     "output_type": "display_data"
    }
   ],
   "source": [
    "import pandas as pd\n",
    "import numpy as np\n",
    "import matplotlib.pyplot as plt\n",
    "\n",
    "def calculate_coefficients (X, Y):\n",
    "    \n",
    "    n = np.size(X)\n",
    "    x_bar = np.mean (X)\n",
    "    y_bar = np.mean (Y)\n",
    "    \n",
    "    xiyi = 0\n",
    "    xi2 = 0\n",
    "    \n",
    "    for i in range (len (X)):\n",
    "        xiyi += X[i]*Y[i]\n",
    "        xi2 += X[i]**2\n",
    "    \n",
    "    b1 = (xiyi - n * x_bar * y_bar) / (xi2 - n * x_bar * x_bar)\n",
    "    b0 = y_bar - b1 * x_bar\n",
    "    \n",
    "    return (b0, b1)\n",
    "    \n",
    "# preparing data\n",
    "filename = \"data.csv\"\n",
    "df = pd.read_csv (filename)\n",
    "X = df.iloc [:, :-1].values\n",
    "Y = df.iloc [:, -1:].values\n",
    "\n",
    "#feature scaling\n",
    "#from sklearn.preprocessing import StandardScaler\n",
    "#scaler = StandardScaler ()\n",
    "#X = scaler.fit_transform (X)\n",
    "#Y = scaler.transform (Y)\n",
    "\n",
    "#train test splitting\n",
    "from sklearn.model_selection import train_test_split\n",
    "X_train, X_test, Y_train, Y_test = train_test_split (X, Y, test_size=1/3)\n",
    "\n",
    "#Fitting Simple Linear Regression to the training set\n",
    "B = calculate_coefficients (X_train, Y_train)\n",
    "Yp = B[0] + B[1] * X_test\n",
    "#print (\"y = %.2f + %.2fx\" % (B[0], B[1]))\n",
    "\n",
    "#fitting using sklearn\n",
    "from sklearn.linear_model import LinearRegression\n",
    "regression = LinearRegression ()\n",
    "regression.fit (X_train, Y_train)\n",
    "Ypred = regression.predict (X_test)\n",
    "\n",
    "plt.scatter (X, Y)\n",
    "print (Ypred-Yp) #difference between both predictions\n",
    "plt.plot (X_test, Ypred, X_test, Yp)\n",
    "plt.show ()\n"
   ]
  },
  {
   "cell_type": "code",
   "execution_count": null,
   "metadata": {},
   "outputs": [],
   "source": []
  },
  {
   "cell_type": "code",
   "execution_count": null,
   "metadata": {},
   "outputs": [],
   "source": []
  },
  {
   "cell_type": "code",
   "execution_count": null,
   "metadata": {},
   "outputs": [],
   "source": []
  }
 ],
 "metadata": {
  "kernelspec": {
   "display_name": "Python 3",
   "language": "python",
   "name": "python3"
  },
  "language_info": {
   "codemirror_mode": {
    "name": "ipython",
    "version": 3
   },
   "file_extension": ".py",
   "mimetype": "text/x-python",
   "name": "python",
   "nbconvert_exporter": "python",
   "pygments_lexer": "ipython3",
   "version": "3.7.3"
  }
 },
 "nbformat": 4,
 "nbformat_minor": 4
}
